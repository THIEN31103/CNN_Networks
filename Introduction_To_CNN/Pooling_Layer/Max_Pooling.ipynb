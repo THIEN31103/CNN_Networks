{
 "cells": [
  {
   "cell_type": "code",
   "execution_count": 9,
   "id": "581a21cc",
   "metadata": {},
   "outputs": [],
   "source": [
    "import torch \n",
    "import torch.nn as nn"
   ]
  },
  {
   "cell_type": "code",
   "execution_count": 10,
   "id": "f0debef1",
   "metadata": {},
   "outputs": [
    {
     "data": {
      "text/plain": [
       "tensor([[[3., 3., 3., 2., 2., 0.],\n",
       "         [1., 0., 3., 1., 1., 0.],\n",
       "         [2., 0., 3., 3., 1., 1.],\n",
       "         [1., 4., 2., 1., 3., 1.],\n",
       "         [4., 2., 1., 0., 3., 4.],\n",
       "         [2., 1., 3., 3., 2., 1.]]])"
      ]
     },
     "execution_count": 10,
     "metadata": {},
     "output_type": "execute_result"
    }
   ],
   "source": [
    "input = torch.randint(5, (1, 6, 6), dtype=torch.float32)\n",
    "input"
   ]
  },
  {
   "cell_type": "code",
   "execution_count": 11,
   "id": "ddc02a11",
   "metadata": {},
   "outputs": [],
   "source": [
    "max_pooling_layer = nn.MaxPool2d(kernel_size=2,\n",
    "                                 stride=(1,2))"
   ]
  },
  {
   "cell_type": "code",
   "execution_count": 12,
   "id": "8c4acef5",
   "metadata": {},
   "outputs": [
    {
     "data": {
      "text/plain": [
       "tensor([[[3., 3., 2.],\n",
       "         [2., 3., 1.],\n",
       "         [4., 3., 3.],\n",
       "         [4., 2., 4.],\n",
       "         [4., 3., 4.]]])"
      ]
     },
     "execution_count": 12,
     "metadata": {},
     "output_type": "execute_result"
    }
   ],
   "source": [
    "output = max_pooling_layer(input)\n",
    "output"
   ]
  }
 ],
 "metadata": {
  "kernelspec": {
   "display_name": "Python 3",
   "language": "python",
   "name": "python3"
  },
  "language_info": {
   "codemirror_mode": {
    "name": "ipython",
    "version": 3
   },
   "file_extension": ".py",
   "mimetype": "text/x-python",
   "name": "python",
   "nbconvert_exporter": "python",
   "pygments_lexer": "ipython3",
   "version": "3.11.8"
  }
 },
 "nbformat": 4,
 "nbformat_minor": 5
}
