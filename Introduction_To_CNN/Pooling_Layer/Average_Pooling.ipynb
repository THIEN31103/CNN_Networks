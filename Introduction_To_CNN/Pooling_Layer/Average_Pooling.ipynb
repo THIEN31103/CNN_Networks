{
 "cells": [
  {
   "cell_type": "code",
   "execution_count": 1,
   "id": "d2121945",
   "metadata": {},
   "outputs": [],
   "source": [
    "import torch\n",
    "import torch.nn as nn"
   ]
  },
  {
   "cell_type": "code",
   "execution_count": 2,
   "id": "546cf485",
   "metadata": {},
   "outputs": [
    {
     "data": {
      "text/plain": [
       "tensor([[[3., 4., 4., 2., 4., 1.],\n",
       "         [1., 2., 3., 4., 0., 2.],\n",
       "         [4., 4., 3., 2., 4., 0.],\n",
       "         [0., 1., 4., 4., 0., 4.],\n",
       "         [0., 1., 2., 1., 1., 1.],\n",
       "         [1., 4., 1., 3., 4., 1.]]])"
      ]
     },
     "execution_count": 2,
     "metadata": {},
     "output_type": "execute_result"
    }
   ],
   "source": [
    "input = torch.randint(5, (1, 6, 6), dtype= torch.float32)\n",
    "input"
   ]
  },
  {
   "cell_type": "code",
   "execution_count": 3,
   "id": "32f6e492",
   "metadata": {},
   "outputs": [],
   "source": [
    "avg_pooling_layer = nn.AvgPool2d(kernel_size=(3,2),\n",
    "                                 stride=(2, 2))"
   ]
  },
  {
   "cell_type": "code",
   "execution_count": 4,
   "id": "51ae0858",
   "metadata": {},
   "outputs": [
    {
     "data": {
      "text/plain": [
       "tensor([[[3.0000, 3.0000, 1.8333],\n",
       "         [1.6667, 2.6667, 1.6667]]])"
      ]
     },
     "execution_count": 4,
     "metadata": {},
     "output_type": "execute_result"
    }
   ],
   "source": [
    "output = avg_pooling_layer(input)\n",
    "output"
   ]
  },
  {
   "cell_type": "code",
   "execution_count": 5,
   "id": "f621881a",
   "metadata": {},
   "outputs": [
    {
     "data": {
      "text/plain": [
       "tensor([[[3., 4., 4., 2., 4., 1.],\n",
       "         [1., 2., 3., 4., 0., 2.],\n",
       "         [4., 4., 3., 2., 4., 0.],\n",
       "         [0., 1., 4., 4., 0., 4.],\n",
       "         [0., 1., 2., 1., 1., 1.],\n",
       "         [1., 4., 1., 3., 4., 1.]]])"
      ]
     },
     "execution_count": 5,
     "metadata": {},
     "output_type": "execute_result"
    }
   ],
   "source": [
    "input"
   ]
  },
  {
   "cell_type": "code",
   "execution_count": 6,
   "id": "6e35ae33",
   "metadata": {},
   "outputs": [],
   "source": [
    "avg_pooling_layer = nn.AvgPool1d(kernel_size=3,\n",
    "                                 stride=3)\n"
   ]
  },
  {
   "cell_type": "code",
   "execution_count": 7,
   "id": "ddf34f71",
   "metadata": {},
   "outputs": [
    {
     "data": {
      "text/plain": [
       "tensor([[[3.6667, 2.3333],\n",
       "         [2.0000, 2.0000],\n",
       "         [3.6667, 2.0000],\n",
       "         [1.6667, 2.6667],\n",
       "         [1.0000, 1.0000],\n",
       "         [2.0000, 2.6667]]])"
      ]
     },
     "execution_count": 7,
     "metadata": {},
     "output_type": "execute_result"
    }
   ],
   "source": [
    "output = avg_pooling_layer(input)\n",
    "output"
   ]
  }
 ],
 "metadata": {
  "kernelspec": {
   "display_name": "Python 3",
   "language": "python",
   "name": "python3"
  },
  "language_info": {
   "codemirror_mode": {
    "name": "ipython",
    "version": 3
   },
   "file_extension": ".py",
   "mimetype": "text/x-python",
   "name": "python",
   "nbconvert_exporter": "python",
   "pygments_lexer": "ipython3",
   "version": "3.11.8"
  }
 },
 "nbformat": 4,
 "nbformat_minor": 5
}
