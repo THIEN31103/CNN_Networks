{
 "cells": [
  {
   "cell_type": "code",
   "execution_count": 1,
   "id": "99731116",
   "metadata": {},
   "outputs": [],
   "source": [
    "import torch \n",
    "import torch.nn as nn"
   ]
  },
  {
   "cell_type": "code",
   "execution_count": 2,
   "id": "dd5ef639",
   "metadata": {},
   "outputs": [
    {
     "data": {
      "text/plain": [
       "tensor([[[3., 1., 2., 0., 0., 0.],\n",
       "         [2., 1., 4., 4., 0., 4.],\n",
       "         [3., 0., 4., 4., 2., 1.],\n",
       "         [1., 1., 1., 1., 0., 1.],\n",
       "         [2., 4., 1., 4., 4., 1.],\n",
       "         [3., 0., 3., 1., 2., 1.]]])"
      ]
     },
     "execution_count": 2,
     "metadata": {},
     "output_type": "execute_result"
    }
   ],
   "source": [
    "input = torch.randint(5, (1, 6, 6), dtype=torch.float32)\n",
    "input"
   ]
  },
  {
   "cell_type": "code",
   "execution_count": 3,
   "id": "e15db5b1",
   "metadata": {},
   "outputs": [],
   "source": [
    "flatten = nn.Flatten()"
   ]
  },
  {
   "cell_type": "code",
   "execution_count": 4,
   "id": "9fcfd403",
   "metadata": {},
   "outputs": [
    {
     "data": {
      "text/plain": [
       "tensor([[3., 1., 2., 0., 0., 0., 2., 1., 4., 4., 0., 4., 3., 0., 4., 4., 2., 1.,\n",
       "         1., 1., 1., 1., 0., 1., 2., 4., 1., 4., 4., 1., 3., 0., 3., 1., 2., 1.]])"
      ]
     },
     "execution_count": 4,
     "metadata": {},
     "output_type": "execute_result"
    }
   ],
   "source": [
    "output = flatten(input)\n",
    "output"
   ]
  }
 ],
 "metadata": {
  "kernelspec": {
   "display_name": "Python 3",
   "language": "python",
   "name": "python3"
  },
  "language_info": {
   "codemirror_mode": {
    "name": "ipython",
    "version": 3
   },
   "file_extension": ".py",
   "mimetype": "text/x-python",
   "name": "python",
   "nbconvert_exporter": "python",
   "pygments_lexer": "ipython3",
   "version": "3.11.8"
  }
 },
 "nbformat": 4,
 "nbformat_minor": 5
}
