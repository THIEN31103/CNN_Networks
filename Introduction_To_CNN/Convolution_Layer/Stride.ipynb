{
 "cells": [
  {
   "cell_type": "code",
   "execution_count": 8,
   "id": "fc2d4e14",
   "metadata": {},
   "outputs": [],
   "source": [
    "import torch\n",
    "import torch.nn as nn"
   ]
  },
  {
   "cell_type": "code",
   "execution_count": 9,
   "id": "5009f40c",
   "metadata": {},
   "outputs": [
    {
     "data": {
      "text/plain": [
       "tensor([[[0., 2., 3., 2., 4., 1.],\n",
       "         [2., 2., 2., 1., 0., 0.],\n",
       "         [4., 3., 2., 0., 2., 4.],\n",
       "         [3., 0., 4., 2., 0., 2.],\n",
       "         [0., 2., 2., 2., 2., 1.],\n",
       "         [2., 1., 4., 4., 0., 2.]]])"
      ]
     },
     "execution_count": 9,
     "metadata": {},
     "output_type": "execute_result"
    }
   ],
   "source": [
    "input = torch.randint(5, (1, 6, 6), dtype=torch.float32)\n",
    "input"
   ]
  },
  {
   "cell_type": "code",
   "execution_count": 10,
   "id": "d12b5bef",
   "metadata": {},
   "outputs": [],
   "source": [
    "#define convolutional layer\n",
    "conv_layer = nn.Conv2d(in_channels=1,\n",
    "                       out_channels=1,\n",
    "                       kernel_size=3,\n",
    "                       stride=2)"
   ]
  },
  {
   "cell_type": "code",
   "execution_count": 11,
   "id": "06086b3d",
   "metadata": {},
   "outputs": [
    {
     "data": {
      "text/plain": [
       "tensor([[[[1., 1., 0.],\n",
       "          [0., 1., 1.],\n",
       "          [0., 0., 1.]]]])"
      ]
     },
     "execution_count": 11,
     "metadata": {},
     "output_type": "execute_result"
    }
   ],
   "source": [
    "init_kernel_weight = torch.randint(high=2,\n",
    "                                   size=(1, 1, 3, 3),\n",
    "                                   dtype=torch.float32)\n",
    "init_kernel_weight"
   ]
  },
  {
   "cell_type": "code",
   "execution_count": 12,
   "id": "0a9aa2da",
   "metadata": {},
   "outputs": [
    {
     "data": {
      "text/plain": [
       "Parameter containing:\n",
       "tensor([[[[1., 1., 0.],\n",
       "          [0., 1., 1.],\n",
       "          [0., 0., 1.]]]], requires_grad=True)"
      ]
     },
     "execution_count": 12,
     "metadata": {},
     "output_type": "execute_result"
    }
   ],
   "source": [
    "conv_layer.weight.data = init_kernel_weight\n",
    "conv_layer.weight"
   ]
  },
  {
   "cell_type": "code",
   "execution_count": 13,
   "id": "89aedeb5",
   "metadata": {},
   "outputs": [
    {
     "data": {
      "text/plain": [
       "Parameter containing:\n",
       "tensor([1.], requires_grad=True)"
      ]
     },
     "execution_count": 13,
     "metadata": {},
     "output_type": "execute_result"
    }
   ],
   "source": [
    "#init bias\n",
    "conv_layer.bias = nn.Parameter(torch.tensor([1], dtype=torch.float32))\n",
    "conv_layer.bias"
   ]
  },
  {
   "cell_type": "code",
   "execution_count": 14,
   "id": "68b5d6bc",
   "metadata": {},
   "outputs": [
    {
     "data": {
      "text/plain": [
       "tensor([[[ 9.,  9.],\n",
       "         [14.,  7.]]], grad_fn=<SqueezeBackward1>)"
      ]
     },
     "execution_count": 14,
     "metadata": {},
     "output_type": "execute_result"
    }
   ],
   "source": [
    "output = conv_layer(input)\n",
    "output"
   ]
  }
 ],
 "metadata": {
  "kernelspec": {
   "display_name": "Python 3",
   "language": "python",
   "name": "python3"
  },
  "language_info": {
   "codemirror_mode": {
    "name": "ipython",
    "version": 3
   },
   "file_extension": ".py",
   "mimetype": "text/x-python",
   "name": "python",
   "nbconvert_exporter": "python",
   "pygments_lexer": "ipython3",
   "version": "3.11.8"
  }
 },
 "nbformat": 4,
 "nbformat_minor": 5
}
