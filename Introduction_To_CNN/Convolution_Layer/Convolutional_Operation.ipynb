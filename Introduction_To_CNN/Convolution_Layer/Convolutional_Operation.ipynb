{
 "cells": [
  {
   "cell_type": "code",
   "execution_count": 3,
   "id": "da342509",
   "metadata": {},
   "outputs": [],
   "source": [
    "import torch\n",
    "import torch.nn as nn"
   ]
  },
  {
   "cell_type": "code",
   "execution_count": 5,
   "id": "82d7ee72",
   "metadata": {},
   "outputs": [
    {
     "data": {
      "text/plain": [
       "tensor([[[3., 0., 4., 4., 0., 3.],\n",
       "         [3., 0., 1., 3., 4., 1.],\n",
       "         [0., 1., 0., 0., 1., 2.],\n",
       "         [4., 1., 2., 3., 3., 4.],\n",
       "         [3., 0., 1., 0., 0., 1.],\n",
       "         [4., 0., 0., 0., 3., 1.]]])"
      ]
     },
     "execution_count": 5,
     "metadata": {},
     "output_type": "execute_result"
    }
   ],
   "source": [
    "input = torch.randint(5, (1, 6, 6), dtype=torch.float32)\n",
    "input"
   ]
  },
  {
   "cell_type": "code",
   "execution_count": 6,
   "id": "e8abe16f",
   "metadata": {},
   "outputs": [],
   "source": [
    "#define convolutional layer\n",
    "conv_layer = nn.Conv2d(in_channels=1,\n",
    "                       out_channels=1,\n",
    "                       kernel_size=3,\n",
    "                       bias=False)"
   ]
  },
  {
   "cell_type": "code",
   "execution_count": 7,
   "id": "7c026d64",
   "metadata": {},
   "outputs": [
    {
     "data": {
      "text/plain": [
       "Parameter containing:\n",
       "tensor([[[[-0.0761,  0.0875,  0.2223],\n",
       "          [ 0.0539,  0.2019, -0.0592],\n",
       "          [-0.0284, -0.3146, -0.2149]]]], requires_grad=True)"
      ]
     },
     "execution_count": 7,
     "metadata": {},
     "output_type": "execute_result"
    }
   ],
   "source": [
    "conv_layer.weight"
   ]
  },
  {
   "cell_type": "code",
   "execution_count": 8,
   "id": "58fd4920",
   "metadata": {},
   "outputs": [],
   "source": [
    "init_kernel_weight = torch.randint(high=2,\n",
    "                                   size=(conv_layer.weight.data.shape),\n",
    "                                   dtype=torch.float32)"
   ]
  },
  {
   "cell_type": "code",
   "execution_count": 9,
   "id": "a68e7344",
   "metadata": {},
   "outputs": [],
   "source": [
    "#init weight\n",
    "conv_layer.weight.data = init_kernel_weight"
   ]
  },
  {
   "cell_type": "code",
   "execution_count": 10,
   "id": "ee5606ba",
   "metadata": {},
   "outputs": [
    {
     "data": {
      "text/plain": [
       "Parameter containing:\n",
       "tensor([[[[1., 0., 1.],\n",
       "          [0., 0., 0.],\n",
       "          [1., 0., 1.]]]], requires_grad=True)"
      ]
     },
     "execution_count": 10,
     "metadata": {},
     "output_type": "execute_result"
    }
   ],
   "source": [
    "conv_layer.weight"
   ]
  },
  {
   "cell_type": "code",
   "execution_count": 11,
   "id": "a3e0b14b",
   "metadata": {},
   "outputs": [
    {
     "data": {
      "text/plain": [
       "tensor([[[ 7.,  5.,  5.,  9.],\n",
       "         [10.,  7., 10., 11.],\n",
       "         [ 4.,  1.,  2.,  3.],\n",
       "         [10.,  4.,  8.,  8.]]], grad_fn=<SqueezeBackward1>)"
      ]
     },
     "execution_count": 11,
     "metadata": {},
     "output_type": "execute_result"
    }
   ],
   "source": [
    "output = conv_layer(input)\n",
    "output"
   ]
  },
  {
   "cell_type": "code",
   "execution_count": 12,
   "id": "2769234e",
   "metadata": {},
   "outputs": [
    {
     "data": {
      "text/plain": [
       "tensor([[[3., 0., 4., 4., 0., 3.],\n",
       "         [3., 0., 1., 3., 4., 1.],\n",
       "         [0., 1., 0., 0., 1., 2.],\n",
       "         [4., 1., 2., 3., 3., 4.],\n",
       "         [3., 0., 1., 0., 0., 1.],\n",
       "         [4., 0., 0., 0., 3., 1.]]])"
      ]
     },
     "execution_count": 12,
     "metadata": {},
     "output_type": "execute_result"
    }
   ],
   "source": [
    "input"
   ]
  },
  {
   "cell_type": "code",
   "execution_count": 13,
   "id": "4545f667",
   "metadata": {},
   "outputs": [],
   "source": [
    "conv_layer = nn.Conv2d(in_channels=1,\n",
    "                       out_channels=1,\n",
    "                       kernel_size=3)"
   ]
  },
  {
   "cell_type": "code",
   "execution_count": 14,
   "id": "a7201470",
   "metadata": {},
   "outputs": [
    {
     "data": {
      "text/plain": [
       "tensor([[[[1., 0., 1.],\n",
       "          [0., 0., 0.],\n",
       "          [1., 0., 1.]]]])"
      ]
     },
     "execution_count": 14,
     "metadata": {},
     "output_type": "execute_result"
    }
   ],
   "source": [
    "init_kernel_weight"
   ]
  },
  {
   "cell_type": "code",
   "execution_count": 15,
   "id": "78c363a4",
   "metadata": {},
   "outputs": [
    {
     "data": {
      "text/plain": [
       "Conv2d(1, 1, kernel_size=(3, 3), stride=(1, 1))"
      ]
     },
     "execution_count": 15,
     "metadata": {},
     "output_type": "execute_result"
    }
   ],
   "source": [
    "#init weight\n",
    "conv_layer.weight.data = init_kernel_weight\n",
    "conv_layer"
   ]
  },
  {
   "cell_type": "code",
   "execution_count": 16,
   "id": "30542404",
   "metadata": {},
   "outputs": [
    {
     "data": {
      "text/plain": [
       "Parameter containing:\n",
       "tensor([0.0302], requires_grad=True)"
      ]
     },
     "execution_count": 16,
     "metadata": {},
     "output_type": "execute_result"
    }
   ],
   "source": [
    "conv_layer.bias"
   ]
  },
  {
   "cell_type": "code",
   "execution_count": 17,
   "id": "2af02959",
   "metadata": {},
   "outputs": [],
   "source": [
    "#init bias\n",
    "conv_layer.bias = nn.Parameter(torch.tensor([1], dtype=torch.float32))"
   ]
  },
  {
   "cell_type": "code",
   "execution_count": 18,
   "id": "0cb52758",
   "metadata": {},
   "outputs": [
    {
     "data": {
      "text/plain": [
       "Parameter containing:\n",
       "tensor([1.], requires_grad=True)"
      ]
     },
     "execution_count": 18,
     "metadata": {},
     "output_type": "execute_result"
    }
   ],
   "source": [
    "conv_layer.bias"
   ]
  },
  {
   "cell_type": "code",
   "execution_count": 20,
   "id": "14073164",
   "metadata": {},
   "outputs": [
    {
     "data": {
      "text/plain": [
       "tensor([[[ 8.,  6.,  6., 10.],\n",
       "         [11.,  8., 11., 12.],\n",
       "         [ 5.,  2.,  3.,  4.],\n",
       "         [11.,  5.,  9.,  9.]]], grad_fn=<SqueezeBackward1>)"
      ]
     },
     "execution_count": 20,
     "metadata": {},
     "output_type": "execute_result"
    }
   ],
   "source": [
    "output = conv_layer(input)\n",
    "output"
   ]
  }
 ],
 "metadata": {
  "kernelspec": {
   "display_name": "Python 3",
   "language": "python",
   "name": "python3"
  },
  "language_info": {
   "codemirror_mode": {
    "name": "ipython",
    "version": 3
   },
   "file_extension": ".py",
   "mimetype": "text/x-python",
   "name": "python",
   "nbconvert_exporter": "python",
   "pygments_lexer": "ipython3",
   "version": "3.11.8"
  }
 },
 "nbformat": 4,
 "nbformat_minor": 5
}
