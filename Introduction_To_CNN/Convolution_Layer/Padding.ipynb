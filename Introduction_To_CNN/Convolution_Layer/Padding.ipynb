{
 "cells": [
  {
   "cell_type": "code",
   "execution_count": 1,
   "id": "1c12ffef",
   "metadata": {},
   "outputs": [],
   "source": [
    "import torch\n",
    "import torch.nn as nn"
   ]
  },
  {
   "cell_type": "code",
   "execution_count": 2,
   "id": "f1a6c6b2",
   "metadata": {},
   "outputs": [
    {
     "data": {
      "text/plain": [
       "tensor([[[0., 3., 4., 2.],\n",
       "         [2., 3., 2., 1.],\n",
       "         [1., 3., 1., 4.],\n",
       "         [4., 3., 4., 0.]]])"
      ]
     },
     "execution_count": 2,
     "metadata": {},
     "output_type": "execute_result"
    }
   ],
   "source": [
    "input = torch.randint(5, (1, 4, 4), dtype=torch.float32)\n",
    "input"
   ]
  },
  {
   "cell_type": "code",
   "execution_count": 4,
   "id": "55ff60ab",
   "metadata": {},
   "outputs": [
    {
     "data": {
      "text/plain": [
       "tensor([[[[0., 0., 1.],\n",
       "          [1., 1., 0.],\n",
       "          [0., 0., 1.]]]])"
      ]
     },
     "execution_count": 4,
     "metadata": {},
     "output_type": "execute_result"
    }
   ],
   "source": [
    "init_kernel_weight = torch.randint(high=2,\n",
    "                                   size=(1, 1, 3, 3),\n",
    "                                   dtype=torch.float32)\n",
    "init_kernel_weight"
   ]
  },
  {
   "cell_type": "code",
   "execution_count": 5,
   "id": "5dc8c03e",
   "metadata": {},
   "outputs": [],
   "source": [
    "#define convolution layer\n",
    "conv_layer = nn.Conv2d(in_channels=1,\n",
    "                       out_channels=1,\n",
    "                       kernel_size=3,\n",
    "                       padding='same')"
   ]
  },
  {
   "cell_type": "code",
   "execution_count": 6,
   "id": "bdc0d60f",
   "metadata": {},
   "outputs": [
    {
     "data": {
      "text/plain": [
       "Parameter containing:\n",
       "tensor([[[[0., 0., 1.],\n",
       "          [1., 1., 0.],\n",
       "          [0., 0., 1.]]]], requires_grad=True)"
      ]
     },
     "execution_count": 6,
     "metadata": {},
     "output_type": "execute_result"
    }
   ],
   "source": [
    "conv_layer.weight.data = init_kernel_weight\n",
    "conv_layer.weight"
   ]
  },
  {
   "cell_type": "code",
   "execution_count": 7,
   "id": "74394607",
   "metadata": {},
   "outputs": [
    {
     "data": {
      "text/plain": [
       "Parameter containing:\n",
       "tensor([1.], requires_grad=True)"
      ]
     },
     "execution_count": 7,
     "metadata": {},
     "output_type": "execute_result"
    }
   ],
   "source": [
    "#init bias\n",
    "conv_layer.bias = nn.Parameter(torch.tensor([1], dtype=torch.float32))\n",
    "conv_layer.bias"
   ]
  },
  {
   "cell_type": "code",
   "execution_count": 8,
   "id": "8e5091e4",
   "metadata": {},
   "outputs": [
    {
     "data": {
      "text/plain": [
       "tensor([[[ 4.,  6.,  9.,  7.],\n",
       "         [ 9., 11., 12.,  4.],\n",
       "         [ 8., 11.,  6.,  6.],\n",
       "         [ 8.,  9., 12.,  5.]]], grad_fn=<SqueezeBackward1>)"
      ]
     },
     "execution_count": 8,
     "metadata": {},
     "output_type": "execute_result"
    }
   ],
   "source": [
    "output = conv_layer(input)\n",
    "output"
   ]
  },
  {
   "cell_type": "code",
   "execution_count": 9,
   "id": "332c7079",
   "metadata": {},
   "outputs": [
    {
     "data": {
      "text/plain": [
       "tensor([[[0., 3., 4., 2.],\n",
       "         [2., 3., 2., 1.],\n",
       "         [1., 3., 1., 4.],\n",
       "         [4., 3., 4., 0.]]])"
      ]
     },
     "execution_count": 9,
     "metadata": {},
     "output_type": "execute_result"
    }
   ],
   "source": [
    "input"
   ]
  },
  {
   "cell_type": "code",
   "execution_count": 12,
   "id": "670d5e94",
   "metadata": {},
   "outputs": [],
   "source": [
    "#define convolution layer\n",
    "conv_layer = nn.Conv2d(in_channels=1,\n",
    "                       out_channels=1,\n",
    "                       kernel_size=3,\n",
    "                       padding=(2,1))"
   ]
  },
  {
   "cell_type": "code",
   "execution_count": 14,
   "id": "e3495f38",
   "metadata": {},
   "outputs": [
    {
     "data": {
      "text/plain": [
       "Parameter containing:\n",
       "tensor([[[[0., 0., 1.],\n",
       "          [1., 1., 0.],\n",
       "          [0., 0., 1.]]]], requires_grad=True)"
      ]
     },
     "execution_count": 14,
     "metadata": {},
     "output_type": "execute_result"
    }
   ],
   "source": [
    "conv_layer.weight.data = init_kernel_weight\n",
    "conv_layer.weight"
   ]
  },
  {
   "cell_type": "code",
   "execution_count": 15,
   "id": "58e3b99a",
   "metadata": {},
   "outputs": [
    {
     "data": {
      "text/plain": [
       "Parameter containing:\n",
       "tensor([1.], requires_grad=True)"
      ]
     },
     "execution_count": 15,
     "metadata": {},
     "output_type": "execute_result"
    }
   ],
   "source": [
    "#init bias\n",
    "conv_layer.bias = nn.Parameter(torch.tensor([1], dtype=torch.float32))\n",
    "conv_layer.bias"
   ]
  },
  {
   "cell_type": "code",
   "execution_count": 16,
   "id": "c4d2590c",
   "metadata": {},
   "outputs": [
    {
     "data": {
      "text/plain": [
       "tensor([[[ 4.,  5.,  3.,  1.],\n",
       "         [ 4.,  6.,  9.,  7.],\n",
       "         [ 9., 11., 12.,  4.],\n",
       "         [ 8., 11.,  6.,  6.],\n",
       "         [ 8.,  9., 12.,  5.],\n",
       "         [ 4.,  5.,  1.,  1.]]], grad_fn=<SqueezeBackward1>)"
      ]
     },
     "execution_count": 16,
     "metadata": {},
     "output_type": "execute_result"
    }
   ],
   "source": [
    "output = conv_layer(input)\n",
    "output"
   ]
  }
 ],
 "metadata": {
  "kernelspec": {
   "display_name": "Python 3",
   "language": "python",
   "name": "python3"
  },
  "language_info": {
   "codemirror_mode": {
    "name": "ipython",
    "version": 3
   },
   "file_extension": ".py",
   "mimetype": "text/x-python",
   "name": "python",
   "nbconvert_exporter": "python",
   "pygments_lexer": "ipython3",
   "version": "3.11.8"
  }
 },
 "nbformat": 4,
 "nbformat_minor": 5
}
